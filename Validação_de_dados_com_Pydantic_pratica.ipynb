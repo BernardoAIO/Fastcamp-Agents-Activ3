{
  "nbformat": 4,
  "nbformat_minor": 0,
  "metadata": {
    "colab": {
      "provenance": [],
      "authorship_tag": "ABX9TyMzO3DMBwaMmEdYcdP2RDAa"
    },
    "kernelspec": {
      "name": "python3",
      "display_name": "Python 3"
    },
    "language_info": {
      "name": "python"
    }
  },
  "cells": [
    {
      "cell_type": "markdown",
      "source": [
        "### Imports"
      ],
      "metadata": {
        "id": "If-B_FkTxtPH"
      }
    },
    {
      "cell_type": "code",
      "source": [
        "!pip install pydantic[email] fastapi"
      ],
      "metadata": {
        "colab": {
          "base_uri": "https://localhost:8080/"
        },
        "id": "DzpqEpnyyPsU",
        "outputId": "87491233-606e-4d39-e5da-b63d0a1a9fd1"
      },
      "execution_count": 1,
      "outputs": [
        {
          "output_type": "stream",
          "name": "stdout",
          "text": [
            "Collecting fastapi\n",
            "  Downloading fastapi-0.115.12-py3-none-any.whl.metadata (27 kB)\n",
            "Requirement already satisfied: pydantic[email] in /usr/local/lib/python3.11/dist-packages (2.11.1)\n",
            "Requirement already satisfied: annotated-types>=0.6.0 in /usr/local/lib/python3.11/dist-packages (from pydantic[email]) (0.7.0)\n",
            "Requirement already satisfied: pydantic-core==2.33.0 in /usr/local/lib/python3.11/dist-packages (from pydantic[email]) (2.33.0)\n",
            "Requirement already satisfied: typing-extensions>=4.12.2 in /usr/local/lib/python3.11/dist-packages (from pydantic[email]) (4.13.0)\n",
            "Requirement already satisfied: typing-inspection>=0.4.0 in /usr/local/lib/python3.11/dist-packages (from pydantic[email]) (0.4.0)\n",
            "Collecting email-validator>=2.0.0 (from pydantic[email])\n",
            "  Downloading email_validator-2.2.0-py3-none-any.whl.metadata (25 kB)\n",
            "Collecting starlette<0.47.0,>=0.40.0 (from fastapi)\n",
            "  Downloading starlette-0.46.1-py3-none-any.whl.metadata (6.2 kB)\n",
            "Collecting dnspython>=2.0.0 (from email-validator>=2.0.0->pydantic[email])\n",
            "  Downloading dnspython-2.7.0-py3-none-any.whl.metadata (5.8 kB)\n",
            "Requirement already satisfied: idna>=2.0.0 in /usr/local/lib/python3.11/dist-packages (from email-validator>=2.0.0->pydantic[email]) (3.10)\n",
            "Requirement already satisfied: anyio<5,>=3.6.2 in /usr/local/lib/python3.11/dist-packages (from starlette<0.47.0,>=0.40.0->fastapi) (4.9.0)\n",
            "Requirement already satisfied: sniffio>=1.1 in /usr/local/lib/python3.11/dist-packages (from anyio<5,>=3.6.2->starlette<0.47.0,>=0.40.0->fastapi) (1.3.1)\n",
            "Downloading fastapi-0.115.12-py3-none-any.whl (95 kB)\n",
            "\u001b[2K   \u001b[90m━━━━━━━━━━━━━━━━━━━━━━━━━━━━━━━━━━━━━━━━\u001b[0m \u001b[32m95.2/95.2 kB\u001b[0m \u001b[31m3.6 MB/s\u001b[0m eta \u001b[36m0:00:00\u001b[0m\n",
            "\u001b[?25hDownloading email_validator-2.2.0-py3-none-any.whl (33 kB)\n",
            "Downloading starlette-0.46.1-py3-none-any.whl (71 kB)\n",
            "\u001b[2K   \u001b[90m━━━━━━━━━━━━━━━━━━━━━━━━━━━━━━━━━━━━━━━━\u001b[0m \u001b[32m72.0/72.0 kB\u001b[0m \u001b[31m4.8 MB/s\u001b[0m eta \u001b[36m0:00:00\u001b[0m\n",
            "\u001b[?25hDownloading dnspython-2.7.0-py3-none-any.whl (313 kB)\n",
            "\u001b[2K   \u001b[90m━━━━━━━━━━━━━━━━━━━━━━━━━━━━━━━━━━━━━━━━\u001b[0m \u001b[32m313.6/313.6 kB\u001b[0m \u001b[31m11.5 MB/s\u001b[0m eta \u001b[36m0:00:00\u001b[0m\n",
            "\u001b[?25hInstalling collected packages: dnspython, starlette, email-validator, fastapi\n",
            "Successfully installed dnspython-2.7.0 email-validator-2.2.0 fastapi-0.115.12 starlette-0.46.1\n"
          ]
        }
      ]
    },
    {
      "cell_type": "code",
      "execution_count": 2,
      "metadata": {
        "id": "TTNzCbF6CZv2"
      },
      "outputs": [],
      "source": [
        "from datetime import datetime, timedelta\n",
        "from typing import Literal, Optional\n",
        "from uuid import uuid4, UUID\n",
        "from pydantic import BaseModel, Field, field_validator, model_validator"
      ]
    },
    {
      "cell_type": "markdown",
      "source": [
        "### Classe AIAgent"
      ],
      "metadata": {
        "id": "7GfTOvy1ySdZ"
      }
    },
    {
      "cell_type": "code",
      "source": [
        "class AIAgent(BaseModel):\n",
        "    id: UUID = Field(default_factory=uuid4)\n",
        "    name: str = Field(..., min_length=2)\n",
        "    model_type: Literal['LLM', 'SLM', 'Recommender', 'Retriever']\n",
        "    context_window: int = Field(..., gt=0, description=\"Max tokens the agent can process\")\n",
        "    max_tasks: int = Field(default=3, ge=1, le=10)\n",
        "    active: bool = True\n",
        "    current_tasks: int = Field(default=0, le=10)\n",
        "\n",
        "    @field_validator(\"name\")\n",
        "    def validate_name(v: str) -> str:\n",
        "        if not v.replace(\" \", \"\").isalpha():\n",
        "            raise ValueError(\"Name must only contain letters and spaces\")\n",
        "        return v"
      ],
      "metadata": {
        "id": "cqPEdPBSyWPC"
      },
      "execution_count": 31,
      "outputs": []
    },
    {
      "cell_type": "markdown",
      "source": [
        "Classe AITask"
      ],
      "metadata": {
        "id": "41X15erEyaWo"
      }
    },
    {
      "cell_type": "code",
      "source": [
        "class AITask(BaseModel):\n",
        "    id: UUID = Field(default_factory=uuid4)\n",
        "    task_type: Literal['chat', 'summarization', 'retrieval', 'recommendation']\n",
        "    assigned_to: UUID\n",
        "    required_context: int = Field(..., gt=0)\n",
        "    deadline: datetime = Field(...)\n",
        "\n",
        "    @model_validator(mode=\"before\")\n",
        "    @classmethod\n",
        "    def validate_deadline(cls, values):\n",
        "        if \"deadline\" in values and values[\"deadline\"] < datetime.now():\n",
        "            raise ValueError(\"Deadline must be in the future\")\n",
        "        return values"
      ],
      "metadata": {
        "id": "3Akx726Dyar1"
      },
      "execution_count": 32,
      "outputs": []
    },
    {
      "cell_type": "code",
      "source": [
        "agents: list[AIAgent] = []\n",
        "tasks: list[AITask] = []"
      ],
      "metadata": {
        "id": "T-KATcaSyj2P"
      },
      "execution_count": 33,
      "outputs": []
    },
    {
      "cell_type": "markdown",
      "source": [
        "### Funções"
      ],
      "metadata": {
        "id": "jBjXEaACyhFQ"
      }
    },
    {
      "cell_type": "code",
      "source": [
        "def create_agent(name: str, model_type: str, context_window: int, max_tasks: int = 3) -> AIAgent:\n",
        "    agent = AIAgent(name=name, model_type=model_type, context_window=context_window, max_tasks=max_tasks)\n",
        "    agents.append(agent)\n",
        "    return agent\n",
        "\n",
        "def assign_task(agent_id: UUID, task_type: str, required_context: int, deadline: datetime) -> AITask:\n",
        "    agent = next((a for a in agents if a.id == agent_id), None)\n",
        "    if not agent:\n",
        "        raise ValueError(\"Agent not found\")\n",
        "    if not agent.active:\n",
        "        raise ValueError(\"Cannot assign tasks to inactive agent\")\n",
        "    if agent.current_tasks >= agent.max_tasks:\n",
        "        raise ValueError(\"Agent is overloaded\")\n",
        "    if required_context > agent.context_window:\n",
        "        raise ValueError(\"Required context exceeds agent capacity\")\n",
        "\n",
        "    task = AITask(task_type=task_type, assigned_to=agent.id, required_context=required_context, deadline=deadline)\n",
        "    tasks.append(task)\n",
        "    agent.current_tasks += 1\n",
        "    return task"
      ],
      "metadata": {
        "id": "wnKux78hyqfD"
      },
      "execution_count": 34,
      "outputs": []
    },
    {
      "cell_type": "markdown",
      "source": [
        "### Tests"
      ],
      "metadata": {
        "id": "T_fUQY9gyr7n"
      }
    },
    {
      "cell_type": "code",
      "source": [
        "# Criando agentes IA\n",
        "agent1 = create_agent(\"Amelia\", \"LLM\", context_window=4096)\n",
        "agent2 = create_agent(\"Evah\", \"Retriever\", context_window=1024, max_tasks=2)\n",
        "\n",
        "print(\"AI Agents created:\\n\", agents)\n",
        "\n",
        "# Atribuindo tarefas válidas\n",
        "task1 = assign_task(agent1.id, \"chat\", required_context=1000, deadline=datetime.now() + timedelta(days=1))\n",
        "task2 = assign_task(agent2.id, \"retrieval\", required_context=512, deadline=datetime.now() + timedelta(hours=8))\n",
        "\n",
        "print(\"\\nTasks assigned:\\n\", tasks)\n",
        "\n",
        "# Tentando erro: tarefa acima da janela de contexto\n",
        "try:\n",
        "    assign_task(agent2.id, \"retrieval\", required_context=2048, deadline=datetime.now() + timedelta(days=1))\n",
        "except ValueError as e:\n",
        "    print(\"\\n[Erro esperado - contexto excedido]:\", e)\n",
        "\n",
        "# Tentando erro: deadline no passado\n",
        "try:\n",
        "    assign_task(agent1.id, \"chat\", required_context=1000, deadline=datetime.now() - timedelta(days=1))\n",
        "except ValueError as e:\n",
        "    print(\"\\n[Erro esperado - deadline passada]:\", e)\n",
        "\n",
        "# Tentando erro: nome inválido\n",
        "try:\n",
        "    create_agent(\"Agent#99!\", \"SLM\", context_window=2048)\n",
        "except ValueError as e:\n",
        "    print(\"\\n[Erro esperado - nome inválido]:\", e)"
      ],
      "metadata": {
        "colab": {
          "base_uri": "https://localhost:8080/"
        },
        "id": "7TFANESGyxuD",
        "outputId": "cce596ad-8367-429b-e0f7-b444ac52a646"
      },
      "execution_count": 35,
      "outputs": [
        {
          "output_type": "stream",
          "name": "stdout",
          "text": [
            "AI Agents created:\n",
            " [AIAgent(id=UUID('48960414-ca73-4fa9-820b-cd674b0333e5'), name='Amelia', model_type='LLM', context_window=4096, max_tasks=3, active=True, current_tasks=0), AIAgent(id=UUID('cfce29f8-6064-4f38-8fc2-8bc0ea173449'), name='Evah', model_type='Retriever', context_window=1024, max_tasks=2, active=True, current_tasks=0)]\n",
            "\n",
            "Tasks assigned:\n",
            " [AITask(id=UUID('698ab89f-4753-4465-98b0-49ca268cbdc3'), task_type='chat', assigned_to=UUID('48960414-ca73-4fa9-820b-cd674b0333e5'), required_context=1000, deadline=datetime.datetime(2025, 4, 4, 18, 8, 26, 522534)), AITask(id=UUID('008fce01-c38b-444e-80a8-53320166079f'), task_type='retrieval', assigned_to=UUID('cfce29f8-6064-4f38-8fc2-8bc0ea173449'), required_context=512, deadline=datetime.datetime(2025, 4, 4, 2, 8, 26, 522765))]\n",
            "\n",
            "[Erro esperado - contexto excedido]: Required context exceeds agent capacity\n",
            "\n",
            "[Erro esperado - deadline passada]: 1 validation error for AITask\n",
            "  Value error, Deadline must be in the future [type=value_error, input_value={'task_type': 'chat', 'as..., 2, 18, 8, 26, 523259)}, input_type=dict]\n",
            "    For further information visit https://errors.pydantic.dev/2.11/v/value_error\n",
            "\n",
            "[Erro esperado - nome inválido]: 1 validation error for AIAgent\n",
            "name\n",
            "  Value error, Name must only contain letters and spaces [type=value_error, input_value='Agent#99!', input_type=str]\n",
            "    For further information visit https://errors.pydantic.dev/2.11/v/value_error\n"
          ]
        }
      ]
    },
    {
      "cell_type": "markdown",
      "source": [
        "#### Serialization"
      ],
      "metadata": {
        "id": "Yx5_AeIayz3v"
      }
    },
    {
      "cell_type": "code",
      "source": [
        "import json\n",
        "print(\"\\nAgentes (JSON):\\n\", json.dumps([a.model_dump(mode='json') for a in agents], indent=2))"
      ],
      "metadata": {
        "colab": {
          "base_uri": "https://localhost:8080/"
        },
        "id": "azaOOWqeyzbJ",
        "outputId": "6df3e074-299c-4daa-bbf4-efe35972ca2c"
      },
      "execution_count": 36,
      "outputs": [
        {
          "output_type": "stream",
          "name": "stdout",
          "text": [
            "\n",
            "Agentes (JSON):\n",
            " [\n",
            "  {\n",
            "    \"id\": \"48960414-ca73-4fa9-820b-cd674b0333e5\",\n",
            "    \"name\": \"Amelia\",\n",
            "    \"model_type\": \"LLM\",\n",
            "    \"context_window\": 4096,\n",
            "    \"max_tasks\": 3,\n",
            "    \"active\": true,\n",
            "    \"current_tasks\": 1\n",
            "  },\n",
            "  {\n",
            "    \"id\": \"cfce29f8-6064-4f38-8fc2-8bc0ea173449\",\n",
            "    \"name\": \"Evah\",\n",
            "    \"model_type\": \"Retriever\",\n",
            "    \"context_window\": 1024,\n",
            "    \"max_tasks\": 2,\n",
            "    \"active\": true,\n",
            "    \"current_tasks\": 1\n",
            "  }\n",
            "]\n"
          ]
        }
      ]
    }
  ]
}